{
 "cells": [
  {
   "cell_type": "markdown",
   "metadata": {},
   "source": [
    "# Music machine learning - Advanced neural networks\n",
    "\n",
    "### Author: Philippe Esling (esling@ircam.fr)\n",
    "\n",
    "In this course we will cover\n",
    "1. An introduction to [convolutions](#convolution) and how they can be used\n",
    "2. Defining a [Convolutional Neural Network](#cnn) in Pytorch for image classification \n",
    "3. Coding our own [convolutional layer](#layer)\n",
    "4. An explanation on [recurrent networks](#rnn) in practice"
   ]
  },
  {
   "cell_type": "markdown",
   "metadata": {},
   "source": [
    "<a id=\"convolution\"></a>\n",
    "## Convolutions"
   ]
  },
  {
   "cell_type": "markdown",
   "metadata": {},
   "source": [
    "In purely mathematical terms, convolution is a function derived from two given functions by integration which expresses how the shape of one is modified by the other. In simpler (discrete) terms, the convolution product of a matrix by a smaller one can be seen as _filtering_ the large matrix. Hence we slide the small matrix over the large one and compute local products at each position. Therefore the convolution operator $\\star$ computes at each position $n$\n",
    "\n",
    "$$\n",
    "(f \\star g)[n]=\\sum _{m=-M}^{M}f[n-m]g[m].\n",
    "$$\n",
    "\n",
    "An example of this operation is shown here\n",
    "\n",
    "<img src=\"images/02_convolution.png\" align=\"center\"/>\n",
    "\n",
    "This operation can be used to _filter_ the image (as in the _gaussian blur_ operator), or _detect_ features (such as edges). \n",
    "\n",
    "Given an 32x32 image with RGB channels, we can represent it as a tensor of shape `(32, 32, 3)` which is (height, width, channels). When we perform convolution, we need a filter that has the same channel depth as the image. For example, we can use a 5x5 filter which is of shape `(5, 5, 3)` and slide it across the image left to right, top to bottom with a stride of 1 to perform convolution. We are going to perform this in numpy, depending on a certain amount of parameters, which define the behavior of our convolution\n",
    "\n",
    "* `height` and `width`: spatial extend of the filters\n",
    "* `S`: stride size (number of steps to jump to the next position)\n",
    "* `P`: amount of padding (adding zeros in the original matrix)"
   ]
  },
  {
   "cell_type": "code",
   "execution_count": null,
   "metadata": {},
   "outputs": [],
   "source": [
    "import numpy as np\n",
    "# Padding\n",
    "pad = 2\n",
    "stride = 1\n",
    "height, width = 5, 5\n",
    "# A random fake image\n",
    "x = np.random.randn(3, 32, 32)\n",
    "x_h, x_w = x.shape[1:]\n",
    "# Our convolution kernel\n",
    "weight = np.random.randn(3, 5, 5)\n",
    "# Padding the original image\n",
    "x_pad = np.pad(x, pad_width=((0, 0,), (pad, pad), (pad, pad)), mode='constant', constant_values=0)\n",
    "# We can expect the output size to be\n",
    "h_out = int(1 + (x_h + 2 * pad - height) / stride)\n",
    "w_out = int(1 + (x_w + 2 * pad - width) / stride)\n",
    "# So we will store our result in\n",
    "y = np.zeros((1, h_out, w_out))"
   ]
  },
  {
   "cell_type": "markdown",
   "metadata": {},
   "source": [
    "Computing the convolution itself can be performed by using the following loop (which amounts to _slide_ our kernel across the large matrix)"
   ]
  },
  {
   "cell_type": "code",
   "execution_count": 30,
   "metadata": {},
   "outputs": [],
   "source": [
    "# Sliding the kernel across the matrix\n",
    "for h in range(h_out):\n",
    "    for w in range(w_out):\n",
    "        i, j = h * stride, w * stride\n",
    "        conv_sum = np.sum(x_pad[:, i:i+height, j:j+width] * weight)\n",
    "        y[0, h, w] = conv_sum"
   ]
  },
  {
   "cell_type": "markdown",
   "metadata": {},
   "source": [
    "We can witness the effect of this operation with the following plot"
   ]
  },
  {
   "cell_type": "code",
   "execution_count": 31,
   "metadata": {},
   "outputs": [
    {
     "name": "stderr",
     "output_type": "stream",
     "text": [
      "Clipping input data to the valid range for imshow with RGB data ([0..1] for floats or [0..255] for integers).\n"
     ]
    },
    {
     "data": {
      "text/plain": [
       "<matplotlib.image.AxesImage at 0x7f9685938fd0>"
      ]
     },
     "execution_count": 31,
     "metadata": {},
     "output_type": "execute_result"
    },
    {
     "data": {
      "image/png": "[encoded data removed]",
      "text/plain": [
       "<Figure size 432x288 with 1 Axes>"
      ]
     },
     "metadata": {
      "needs_background": "light"
     },
     "output_type": "display_data"
    },
    {
     "data": {
      "image/png": "[encoded data removed]",
      "text/plain": [
       "<Figure size 432x288 with 1 Axes>"
      ]
     },
     "metadata": {
      "needs_background": "light"
     },
     "output_type": "display_data"
    }
   ],
   "source": [
    "######################\n",
    "# YOUR CODE GOES HERE\n",
    "######################\n",
    "import matplotlib.pyplot as plt\n",
    "# plt.imshow(np.sum(x, axis=0), cmap=\"gray\")\n",
    "plt.imshow(x.swapaxes(0, 2))\n",
    "plt.figure()\n",
    "plt.imshow(y[0])"
   ]
  },
  {
   "cell_type": "markdown",
   "metadata": {},
   "source": [
    "## Convolutional Neural Networks (CNN)\n",
    "\n",
    "Convolutional NNs (CNNs) rely on convolution in place of general matrix multiplication. They are specialized for processing data with a known grid-like topology and are among the best performing systems in classification/recognition tasks. Each layer in a CNN consists in a set of $N$ _filters_ called _kernels_, that are convolved across the input. If we denote as $\\{k^l_n\\}_{n\\in[1;N]}$ the set of kernels for layer $l$, these all share a unique _kernel size_. By convolving each one of its $N$ kernels across a d-dimensional input $x$, a convolutional layer produces $N$ d-dimensional outputs called _feature maps_, denoted as $\\{a^l_n\\}_{n\\in[1;N]}$. Hence, the computation of the $n$-th activation map in layer $l$ for input $x$ is defined as:\n",
    "\n",
    "$$\n",
    "\\begin{equation}\n",
    "a^l_n = \\sum_{m=1}^{M} k^l_n \\star x_m + b^l_n\n",
    "\\end{equation}\n",
    "$$\n",
    "\n",
    "Thus, as depicted in the following Figure, the feature map corresponding to kernel $n$ consists in the sum of the d-dimensional discrete convolutions (denoted by the $\\star$ operator) between the kernel $n$ and each one of the d-dimensional data $\\{x_m\\}_{m\\in[1;M]}$, plus a bias $b$. A convolutional layer is thus a 3-dimensional tensor $h \\in \\mathcal{T}_{N,I,J}(\\mathbb{R})$ where $N$ is the number of features maps while $I$ and $J$ are respectively the _width_ and _height_ of the maps. \n",
    "\n",
    "<img src=\"images/02_cnns.png\" align=\"center\"/>"
   ]
  },
  {
   "cell_type": "markdown",
   "metadata": {},
   "source": [
    "This can be seen as replacing our _neurons_ by _feature detectors_ (the convolutional kernels), which will increasingly process the image. In the following, we will first use the high-level interface of `Pytorch` to define a CNN"
   ]
  },
  {
   "cell_type": "markdown",
   "metadata": {},
   "source": [
    "<a id=\"cnn\"></a>\n",
    "## Defining a CNN in Pytorch\n",
    "\n",
    "Defining a convolutional network in Pytorch is quite easy, as we can rely on the `nn` module, which contains all the required layers"
   ]
  },
  {
   "cell_type": "code",
   "execution_count": 32,
   "metadata": {},
   "outputs": [],
   "source": [
    "import torch\n",
    "import torch.nn as nn"
   ]
  },
  {
   "cell_type": "markdown",
   "metadata": {},
   "source": [
    "In the previous course, we have seen that we could define our network in a very simple way, by using the `Sequential` model definition. Here we define a CNN followed by a MLP, as seen in the previous course"
   ]
  },
  {
   "cell_type": "code",
   "execution_count": 33,
   "metadata": {},
   "outputs": [],
   "source": [
    "# Define the input dimensions\n",
    "in_size = 1000\n",
    "# Use the nn package to define our model and loss function.\n",
    "model = nn.Sequential(\n",
    "    nn.Conv2d(3, 6, 5),\n",
    "    nn.ReLU(),\n",
    "    nn.MaxPool2d(2, 2),\n",
    "    nn.Conv2d(6, 16, 5),\n",
    "    nn.ReLU(),\n",
    "    nn.MaxPool2d(2, 2),\n",
    "    nn.Flatten(),\n",
    "    nn.Linear(16 * 5 * 5, 120),\n",
    "    nn.ReLU(),\n",
    "    nn.Linear(120, 84),\n",
    "    nn.ReLU(),\n",
    "    nn.Linear(84, 10),\n",
    "    nn.Softmax(dim=1)\n",
    ")"
   ]
  },
  {
   "cell_type": "markdown",
   "metadata": {},
   "source": [
    "Another way to implement the networks in Pytorch is to use the `functional` approach. In this version, each layer is seen as a function, that we apply on sucessive inputs. For instance, we can define one layer of fully-connected units and apply it to some inputs as follows.\n"
   ]
  },
  {
   "cell_type": "code",
   "execution_count": 34,
   "metadata": {},
   "outputs": [],
   "source": [
    "import torch.nn.functional as F\n",
    "# Define one layer\n",
    "layer = nn.Linear(100, 10)\n",
    "# Define the non-linearity\n",
    "activation = nn.ReLU()\n",
    "# Create some random input\n",
    "inputs = torch.rand(32, 100)\n",
    "# Apply our layers\n",
    "outputs = activation(layer(inputs))\n",
    "# Equivalently, as ReLU is parameter-free\n",
    "outputs = F.relu(layer(inputs))"
   ]
  },
  {
   "cell_type": "markdown",
   "metadata": {},
   "source": [
    "Now to make this even cleaner, we can define our own `nn.Module`, which is a `Pytorch` class representing models. To do so, we can define a sub-class, and implement the functions `__init__` (defining our layers) and `forward` (explaining how our forward pass will behave)\n",
    "\n",
    "***\n",
    "\n",
    "**Exercise**\n",
    "1. Implement a CNN in Pytorch using the `functional` library\n",
    "\n",
    "***\n",
    "\n",
    "<!--\n",
    "<div class=\"alert alert-info\" markdown=1><h4>Exercise</h4>\n",
    "1. Implement a CNN in Pytorch using the `functional` library\n",
    "</div>\n",
    "-->\n"
   ]
  },
  {
   "cell_type": "code",
   "execution_count": 35,
   "metadata": {},
   "outputs": [
    {
     "name": "stdout",
     "output_type": "stream",
     "text": [
      "Using CUDA\n"
     ]
    }
   ],
   "source": [
    "import torch.nn as nn\n",
    "import torch.nn.functional as F\n",
    "\n",
    "class CNN(nn.Module):\n",
    "    def __init__(self):\n",
    "        super(CNN, self).__init__()\n",
    "        self.conv1 = nn.Conv2d(3, 6, 5)\n",
    "        self.pool1 = nn.MaxPool2d(2, 2)\n",
    "        self.conv2 = nn.Conv2d(6, 16, 5)\n",
    "        self.pool2 = nn.MaxPool2d(2, 2)\n",
    "        self.linear1 = nn.Linear(16 * 5 * 5, 120)\n",
    "        self.linear2 = nn.Linear(120, 84)\n",
    "        self.linear3 = nn.Linear(84, 10)\n",
    "    \n",
    "    def forward(self, x):\n",
    "        ######################\n",
    "        # YOUR CODE GOES HERE\n",
    "        ######################\n",
    "        out = F.relu(self.conv1(x))\n",
    "        out = self.pool1(out)\n",
    "        out = F.relu(self.conv2(out))\n",
    "        out = self.pool2(out).flatten(start_dim=1)\n",
    "        out = F.relu(self.linear1(out))\n",
    "        out = F.relu(self.linear2(out))\n",
    "        out = self.linear3(out)\n",
    "        return out\n",
    "\n",
    "model = CNN()\n",
    "# let's use a gpu if possible cuz it's much faster\n",
    "device = torch.device(\"cuda\" if torch.cuda.is_available() else \"cpu\")\n",
    "print(f\"Using {str(device).upper()}\")\n",
    "model = model.to(device)"
   ]
  },
  {
   "cell_type": "markdown",
   "metadata": {},
   "source": [
    "### Training the network\n",
    "\n",
    "In order to test our CNN, we are going to try to perform image classification. To do so, we can use the simplifications for data loading contained in `torchvision`"
   ]
  },
  {
   "cell_type": "code",
   "execution_count": 36,
   "metadata": {},
   "outputs": [],
   "source": [
    "import torchvision\n",
    "import torchvision.transforms as transforms"
   ]
  },
  {
   "cell_type": "markdown",
   "metadata": {},
   "source": [
    "The `torchvision` package provides pre-coded simplification to download and use the major image datasets, notably `MNIST` and `CIFAR`, which are the baseline datasets for testing image ML models. The output of torchvision datasets are PILImage images of range [0, 1]. We transform them to Tensors of normalized range [-1, 1].\n",
    "\n",
    "In the following code, we are going to load the `CIFAR10` _train_ and _test_ sets. **Note that this code will automatically download the dataset if you did not have it before, and place it in the `data` folder, so this might take a bit of time**"
   ]
  },
  {
   "cell_type": "code",
   "execution_count": 37,
   "metadata": {},
   "outputs": [
    {
     "name": "stdout",
     "output_type": "stream",
     "text": [
      "Files already downloaded and verified\n",
      "Files already downloaded and verified\n",
      "Images shape: torch.Size([3, 32, 32])\n"
     ]
    },
    {
     "data": {
      "image/png": "[encoded data removed]",
      "text/plain": [
       "<Figure size 720x720 with 32 Axes>"
      ]
     },
     "metadata": {
      "needs_background": "light"
     },
     "output_type": "display_data"
    }
   ],
   "source": [
    "NUM_WORKERS = 10\n",
    "BATCH_SIZE = 50\n",
    "pin_memory = True  # testing that parameter\n",
    "\n",
    "# Transforms to apply to the images\n",
    "transform = transforms.Compose([transforms.ToTensor(), transforms.Normalize((0.5, 0.5, 0.5), (0.5, 0.5, 0.5))])\n",
    "# Import the train dataset\n",
    "trainset = torchvision.datasets.CIFAR10(root='./data', train=True, download=True, transform=transform)\n",
    "trainloader = torch.utils.data.DataLoader(trainset, batch_size=BATCH_SIZE, shuffle=True, num_workers=NUM_WORKERS, pin_memory=pin_memory)\n",
    "# Import the test dataset\n",
    "testset = torchvision.datasets.CIFAR10(root='./data', train=False, download=True, transform=transform)\n",
    "testloader = torch.utils.data.DataLoader(testset, batch_size=BATCH_SIZE, shuffle=False, num_workers=NUM_WORKERS, pin_memory=pin_memory)\n",
    "# Classes in the CIFAR dataset\n",
    "classes = ('plane', 'car', 'bird', 'cat', 'deer', 'dog', 'frog', 'horse', 'ship', 'truck')\n",
    "\n",
    "# Visualize some images from the dataset \n",
    "import matplotlib.pyplot as plt\n",
    "from mpl_toolkits.axes_grid1 import ImageGrid\n",
    "\n",
    "images = [(trainset[i][0].permute(1, 2, 0).numpy() + 1)/2 for i in range(16)]\n",
    "print(f\"Images shape: {trainset[0][0].shape}\")\n",
    "fig = plt.figure(figsize=(10, 10))\n",
    "grid = ImageGrid(fig, 111, nrows_ncols=(4, 4))\n",
    "for ax, im in zip(grid, images):\n",
    "    ax.imshow(im)\n",
    "plt.show()"
   ]
  },
  {
   "cell_type": "markdown",
   "metadata": {},
   "source": [
    "Using your knowledge from the previous course, you can now define an optimization problem, and implement the training loop for your model\n",
    "\n",
    "***\n",
    "\n",
    "**Exercise**\n",
    "1. Define a `criterion` and `optimizer`\n",
    "2. Fill in the training loop to train your model\n",
    "\n",
    "***"
   ]
  },
  {
   "cell_type": "code",
   "execution_count": 38,
   "metadata": {},
   "outputs": [],
   "source": [
    "import torch.optim as optim\n",
    "\n",
    "criterion = nn.CrossEntropyLoss()\n",
    "# optimizer = optim.Adam(model.parameters(), lr=0.001)\n",
    "optimizer = optim.SGD(model.parameters(), lr=0.001, momentum=0.9)"
   ]
  },
  {
   "cell_type": "code",
   "execution_count": 39,
   "metadata": {},
   "outputs": [
    {
     "name": "stdout",
     "output_type": "stream",
     "text": [
      "Batch size: 50\n"
     ]
    },
    {
     "data": {
      "application/vnd.jupyter.widget-view+json": {
       "model_id": "4f0a51d4739d4e63a8607cd949d8e6d6",
       "version_major": 2,
       "version_minor": 0
      },
      "text/plain": [
       "  0%|          | 0/50 [00:00<?, ?it/s]"
      ]
     },
     "metadata": {},
     "output_type": "display_data"
    },
    {
     "name": "stdout",
     "output_type": "stream",
     "text": [
      "Average loss at epoch 0: 2.299262772321701\n",
      "Validation loss at epoch 0: 2.288092403411865\n",
      "Average loss at epoch 1: 2.143118030548096\n",
      "Validation loss at epoch 1: 1.9135990005731582\n",
      "Average loss at epoch 2: 1.8035861369371413\n",
      "Validation loss at epoch 2: 1.724763115644455\n",
      "Average loss at epoch 3: 1.6227345029115676\n",
      "Validation loss at epoch 3: 1.539615113735199\n",
      "Average loss at epoch 4: 1.5018457013368607\n",
      "Validation loss at epoch 4: 1.4559260201454163\n",
      "Average loss at epoch 5: 1.426308247923851\n",
      "Validation loss at epoch 5: 1.402360075712204\n",
      "Average loss at epoch 6: 1.3687941364645957\n",
      "Validation loss at epoch 6: 1.327482055425644\n",
      "Average loss at epoch 7: 1.3144903362989426\n",
      "Validation loss at epoch 7: 1.2819104868173599\n",
      "Average loss at epoch 8: 1.2660111755728722\n",
      "Validation loss at epoch 8: 1.2661523473262788\n",
      "Average loss at epoch 9: 1.2280293611884117\n",
      "Validation loss at epoch 9: 1.225558493733406\n",
      "Average loss at epoch 10: 1.1899649134874344\n",
      "Validation loss at epoch 10: 1.186955645084381\n",
      "Average loss at epoch 11: 1.1574207177758218\n",
      "Validation loss at epoch 11: 1.1872147953510284\n",
      "Average loss at epoch 12: 1.1245829710960389\n",
      "Validation loss at epoch 12: 1.2037379890680313\n",
      "Average loss at epoch 13: 1.093523446917534\n",
      "Validation loss at epoch 13: 1.1426191306114197\n",
      "Average loss at epoch 14: 1.064273626625538\n",
      "Validation loss at epoch 14: 1.1250320747494698\n",
      "Average loss at epoch 15: 1.0415502992868424\n",
      "Validation loss at epoch 15: 1.1196699830889703\n",
      "Average loss at epoch 16: 1.0125730556845665\n",
      "Validation loss at epoch 16: 1.0946157717704772\n",
      "Average loss at epoch 17: 0.989791639983654\n",
      "Validation loss at epoch 17: 1.1114178144931792\n",
      "Average loss at epoch 18: 0.966148218035698\n",
      "Validation loss at epoch 18: 1.0669347417354584\n",
      "Average loss at epoch 19: 0.9423117318153381\n",
      "Validation loss at epoch 19: 1.0525375160574912\n",
      "Average loss at epoch 20: 0.921454578101635\n",
      "Validation loss at epoch 20: 1.044134582877159\n",
      "Average loss at epoch 21: 0.8986434291899205\n",
      "Validation loss at epoch 21: 1.0440647345781326\n",
      "Average loss at epoch 22: 0.8810201997756958\n",
      "Validation loss at epoch 22: 1.0236529466509818\n",
      "Average loss at epoch 23: 0.8673596548140049\n",
      "Validation loss at epoch 23: 1.0292254680395125\n",
      "Average loss at epoch 24: 0.8424483889043332\n",
      "Validation loss at epoch 24: 1.0357624810934067\n",
      "Average loss at epoch 25: 0.825281553208828\n",
      "Validation loss at epoch 25: 1.0299603982269765\n",
      "Average loss at epoch 26: 0.8067883285582066\n",
      "Validation loss at epoch 26: 1.0476424849033357\n",
      "Average loss at epoch 27: 0.7873261197209358\n",
      "Validation loss at epoch 27: 1.0572155848145486\n",
      "Average loss at epoch 28: 0.7749046582281589\n",
      "Validation loss at epoch 28: 1.0430282202363015\n",
      "Average loss at epoch 29: 0.7591214473843575\n",
      "Validation loss at epoch 29: 1.0285330843925475\n",
      "Average loss at epoch 30: 0.7394011312127113\n",
      "Validation loss at epoch 30: 1.066516561806202\n",
      "Average loss at epoch 31: 0.7271691389083862\n",
      "Validation loss at epoch 31: 1.0384696000814437\n",
      "Average loss at epoch 32: 0.7131246544122696\n",
      "Validation loss at epoch 32: 1.0471277332305908\n",
      "Average loss at epoch 33: 0.6987587469220161\n",
      "Validation loss at epoch 33: 1.061419198513031\n",
      "Average loss at epoch 34: 0.6842993855476379\n",
      "Validation loss at epoch 34: 1.0608386170864106\n",
      "Average loss at epoch 35: 0.6700320740938187\n",
      "Validation loss at epoch 35: 1.0566556748747826\n",
      "Average loss at epoch 36: 0.6592703849077225\n",
      "Validation loss at epoch 36: 1.0700715988874436\n",
      "Average loss at epoch 37: 0.6479489458799362\n",
      "Validation loss at epoch 37: 1.071210345029831\n",
      "Average loss at epoch 38: 0.6308055932819844\n",
      "Validation loss at epoch 38: 1.0973219469189643\n",
      "Average loss at epoch 39: 0.6192304782420397\n",
      "Validation loss at epoch 39: 1.0804216581583024\n",
      "Average loss at epoch 40: 0.604509556144476\n",
      "Validation loss at epoch 40: 1.1045978470146656\n",
      "Average loss at epoch 41: 0.5927780961096287\n",
      "Validation loss at epoch 41: 1.1191250413656235\n",
      "Average loss at epoch 42: 0.5831192915588618\n",
      "Validation loss at epoch 42: 1.1307524999976157\n",
      "Average loss at epoch 43: 0.5702063500583172\n",
      "Validation loss at epoch 43: 1.1891699868440628\n",
      "Average loss at epoch 44: 0.5572887041270733\n",
      "Validation loss at epoch 44: 1.1857678028941154\n",
      "Average loss at epoch 45: 0.5506274541616439\n",
      "Validation loss at epoch 45: 1.240750317275524\n",
      "Average loss at epoch 46: 0.5336879187524318\n",
      "Validation loss at epoch 46: 1.1973301634192466\n",
      "Average loss at epoch 47: 0.5203369343429803\n",
      "Validation loss at epoch 47: 1.2318252792954445\n",
      "Average loss at epoch 48: 0.5115599621534348\n",
      "Validation loss at epoch 48: 1.21902251213789\n",
      "Average loss at epoch 49: 0.49927984237670897\n",
      "Validation loss at epoch 49: 1.2230110555887221\n"
     ]
    }
   ],
   "source": [
    "from tqdm.notebook import trange\n",
    "\n",
    "n_epochs = 50\n",
    "print(f\"Batch size: {BATCH_SIZE}\")\n",
    "\n",
    "N_REDUC = 1\n",
    "train_losses = np.zeros(n_epochs)\n",
    "validation_losses = np.zeros(n_epochs // N_REDUC)\n",
    "# Training loop\n",
    "def train_epoch():\n",
    "    running_loss = 0.0\n",
    "    # Go through all batches\n",
    "    for i, data in enumerate(trainloader):\n",
    "        # Get the inputs; data is a list of [inputs, labels]\n",
    "        inputs, labels = data\n",
    "        inputs = inputs.to(device)\n",
    "        labels = labels.to(device)\n",
    "        optimizer.zero_grad()\n",
    "        outputs = model(inputs)\n",
    "        loss = criterion(outputs, labels)\n",
    "        loss.backward()\n",
    "        optimizer.step()\n",
    "        # Keep track of the loss\n",
    "        running_loss += loss.item()\n",
    "    return running_loss\n",
    "\n",
    "for epoch in trange(n_epochs):\n",
    "    running_loss = train_epoch()\n",
    "    train_losses[epoch] = running_loss/len(trainloader)\n",
    "    print(f'Average loss at epoch {epoch}: {running_loss/len(trainloader)}')\n",
    "    if epoch % N_REDUC == 0:  # we evaluate on the test set every 10 epochs\n",
    "        # Evaluation\n",
    "        with torch.no_grad():\n",
    "            running_loss = 0.0\n",
    "            for i, data in enumerate(testloader):\n",
    "                inputs, labels = data\n",
    "                inputs = inputs.to(device)\n",
    "                labels = labels.to(device)\n",
    "                outputs = model(inputs)\n",
    "                loss = criterion(outputs, labels)\n",
    "                running_loss += loss.item()\n",
    "            print(f\"Validation loss at epoch {epoch}: {running_loss/len(testloader)}\")\n",
    "            validation_losses[epoch // N_REDUC] = running_loss/len(testloader)        "
   ]
  },
  {
   "cell_type": "code",
   "execution_count": 40,
   "metadata": {},
   "outputs": [
    {
     "data": {
      "image/png": "[encoded data removed]",
      "text/plain": [
       "<Figure size 432x288 with 1 Axes>"
      ]
     },
     "metadata": {
      "needs_background": "light"
     },
     "output_type": "display_data"
    }
   ],
   "source": [
    "plt.plot(train_losses)\n",
    "plt.plot(np.linspace(0, n_epochs-1, n_epochs//N_REDUC), validation_losses)\n",
    "plt.title(\"A nice overfitting example\")\n",
    "plt.show()"
   ]
  },
  {
   "cell_type": "markdown",
   "metadata": {},
   "source": [
    "Now that your model is trained, you can test it by feeding some new (unseen) images and see if it is able to classify them correctly\n",
    "\n",
    "=> To do that correctly we have to stop the training at the best epoch based on the loss on the validation set. Here the resutls aren't incredible, we could add regularization to reduce overfitting and increase our accuracy on the validation set."
   ]
  },
  {
   "cell_type": "markdown",
   "metadata": {},
   "source": [
    "<a id=\"layer\"></a>\n",
    "## Coding our own convolutional layer\n",
    "\n",
    "Although `Pytorch` comes packed with pre-implemented layers, we can also very easily define our own layers. This will be useful when you start doing research and propose your own way of processing the information. A large advantage of `Pytorch` is that it performs _automatic gradient differentiation_, this means that we simply have to define how the `forward` pass will work, and `Pytorch` will automatically infer the backpropagation equations, without us having to go through any complicated differentiation\n",
    "\n",
    "In the following, we are going to redefine the `Conv2d` layer, by computing the operation ourselves.\n",
    "\n",
    "***\n",
    "\n",
    "**Exercise**\n",
    "1. Complete the `forward` function to compute a convolution\n",
    "\n",
    "***"
   ]
  },
  {
   "cell_type": "code",
   "execution_count": 62,
   "metadata": {},
   "outputs": [
    {
     "name": "stdout",
     "output_type": "stream",
     "text": [
      "x torch.Size([2, 3, 24, 24])\n",
      "tensor([[[ 0.0255,  0.0367,  0.0324,  0.0222,  0.0372,  0.0292,  0.0204,\n",
      "           0.0332,  0.0263],\n",
      "         [ 0.0345,  0.0416,  0.0221,  0.0456,  0.0529,  0.0342,  0.0506,\n",
      "           0.0582,  0.0385],\n",
      "         [-0.0366, -0.0354, -0.0359, -0.0204, -0.0202, -0.0229, -0.0186,\n",
      "          -0.0278, -0.0271]]])\n"
     ]
    }
   ],
   "source": [
    "class MyConv2d(nn.Module):\n",
    "    def __init__(self, n_channels, out_channels, kernel_size, dilation=1, padding=0, stride=1):\n",
    "        super(MyConv2d, self).__init__()\n",
    "        self.kernel_size = (kernel_size, kernel_size)\n",
    "        self.kernal_size_number = kernel_size * kernel_size\n",
    "        self.out_channels = out_channels\n",
    "        self.dilation = (dilation, dilation)\n",
    "        self.padding = (padding, padding)\n",
    "        self.stride = (stride, stride)\n",
    "        self.n_channels = n_channels\n",
    "        self.weights = nn.Parameter(torch.Tensor(self.out_channels, self.n_channels, self.kernal_size_number))\n",
    "\n",
    "    def forward(self, x):\n",
    "        print(\"x\", x.shape)\n",
    "        width = self.calculateNewWidth(x)\n",
    "        height = self.calculateNewHeight(x)\n",
    "        windows = self.calculateWindows(x)\n",
    "        \n",
    "        result = torch.sum(windows * self.weights, [1, 2])\n",
    "        result = result.view(x.shape[0], self.out_channels, width, height)\n",
    "        return result  \n",
    "\n",
    "    def calculateWindows(self, x):\n",
    "        windows = F.unfold(x, kernel_size=self.kernel_size, padding=self.padding, dilation=self.dilation, stride=self.stride)\n",
    "        windows = windows.transpose(1, 2).contiguous().view(-1, x.shape[1], self.kernal_size_number)\n",
    "        # windows = windows.transpose(0, 1)\n",
    "        return windows\n",
    "\n",
    "    def calculateNewWidth(self, x):\n",
    "        return ((x.shape[2] + 2 * self.padding[0] - self.dilation[0] * (self.kernel_size[0] - 1) - 1) // self.stride[0]) + 1\n",
    "\n",
    "    def calculateNewHeight(self, x):\n",
    "        return ((x.shape[3] + 2 * self.padding[1] - self.dilation[1] * (self.kernel_size[1] - 1) - 1) // self.stride[1]) + 1\n",
    "\n",
    "# Testing the code directly\n",
    "conv = MyConv2d(3, 1, 3)\n",
    "x = torch.randn(2, 3, 24, 24)\n",
    "out = conv(x)\n",
    "out.mean().backward()\n",
    "# Check that we do have gradients\n",
    "print(conv.weights.grad)"
   ]
  },
  {
   "cell_type": "markdown",
   "metadata": {},
   "source": [
    "Now you can use your own `MyConv2d` layer, and use it in real-life scenarios, by trying to change your previous model to use your own layer instead."
   ]
  },
  {
   "cell_type": "markdown",
   "metadata": {},
   "source": [
    "## Recurrent Neural Networks (RNN)"
   ]
  },
  {
   "cell_type": "markdown",
   "metadata": {},
   "source": [
    "Recurrent neural networks (RNNs) are a family of models designed to process time series and sequential data, which perform remarkably in applications such as speech recognition or machine translation. The ability of RNNs to model correlations between successive computations through recurrent connection make them efficient for temporal problem as they provide a form of _memory_. \n",
    "\n",
    "To model structured sequential data, NNs can be augmented with recurrent loops, which allow to retain information across time steps. Considering a sequence $\\mathbf{X}=\\{\\mathbf{x}_t\\}$, dependencies between elements are managed by having a recurrent hidden state $\\mathbf{h}_t$ at time $t$ in the network. The value of $\\mathbf{h}_t$ at each time depends of the previous time and the input, as depicted in the following figure. \n",
    "\n",
    "<img src=\"images/02_rnn.png\" align=\"center\"/>\n",
    "\n",
    "Formally, each hidden state is updated as\n",
    "\n",
    "$$\n",
    "\\begin{equation}\n",
    "\\mathbf{h}_t = \n",
    "\\begin{cases} \n",
    "\\phi_{\\mathbf{\\mathbf{\\theta}}}(\\mathbf{x}_0) & \\mbox{if } t=0 \\\\ \n",
    "\\phi_{\\mathbf{\\mathbf{\\theta}}}(\\mathbf{h}_{t-1},\\mathbf{x}_t), & \\mbox{otherwise} \n",
    "\\end{cases}\n",
    "\\label{eq:RNNhiddenupdate}\n",
    "\\end{equation}\n",
    "$$ "
   ]
  },
  {
   "cell_type": "markdown",
   "metadata": {},
   "source": [
    "### Implementing a simple rnn"
   ]
  },
  {
   "cell_type": "markdown",
   "metadata": {},
   "source": [
    "Here's a simple one-to-many vanilla recurrent neural network example in functional form. If we were to produce `h[t]`, we need some weight matrices, `h[t-1]`, `x[t]` and a non-linearity `tanh`.\n",
    "\n",
    "$$\n",
    "h_{t} = tanh(W_{hh}h_{t-1} + W_{xh}x_{t} + B_{h})\n",
    "$$\n",
    "\n",
    "Since this is a **one-to-many** network, we'd want to produce an output `y[t]` at every timestep, thus, we need another weight matrix that accepts a hidden state and project it to an output.\n",
    "\n",
    "$$\n",
    "y_{t} = W_{hy}h_{t} + B_{y}\n",
    "$$\n",
    "\n",
    "Now that we know how to use the `Functional` library of `Pytorch`, we are going to implement our own simple RNN layer as previously. This time, we do not provide the content of the `__init__` function, so think carefully of what parameters you will need and how you need to define them.\n",
    "\n",
    "***\n",
    "\n",
    "**Exercise**\n",
    "1. Complete the `__init__` function to instantiate all required parameters\n",
    "1. Complete the `forward` function to compute the forward pass\n",
    "\n",
    "***"
   ]
  },
  {
   "cell_type": "code",
   "execution_count": 13,
   "metadata": {},
   "outputs": [],
   "source": [
    "import torch\n",
    "import torch.nn as nn\n",
    "import torch.nn.functional as F\n",
    "\n",
    "class RecurrentNetwork(nn.Module):\n",
    "    \"\"\" Unidirectionnal RNN by hand\"\"\"\n",
    "    def __init__(self, input_size, hidden_size, output_size):\n",
    "        \"\"\" Defines the required variables \"\"\"\n",
    "        super(RecurrentNetwork, self).__init__()\n",
    "        self.num_layers = 2\n",
    "        self.input_size = input_size\n",
    "        self.hidden_size = hidden_size\n",
    "        self.output_size = output_size\n",
    "        # we could do \n",
    "        # self.rnn = nn.RNN(input_size, hidden_size, num_layers=2)\n",
    "        # self.linear = nn.Linear(hidden_size, output_size)\n",
    "        \n",
    "        self.input_f1 = nn.Linear(input_size, hidden_size)\n",
    "        self.hidden_f1 = nn.Linear(hidden_size, hidden_size)\n",
    "        self.hidden_state = None  #initialized at first pass\n",
    "        self.output_function = nn.Linear(hidden_size, output_size)\n",
    "        \n",
    "    def forward(self, x):\n",
    "        \"\"\" Computes the forward pass \"\"\"\n",
    "        if self.hidden_state is None:\n",
    "            self.hidden_state = torch.zeros(self.num_layers, x.shape[0], self.hidden_size)\n",
    "        self.hidden_state = torch.tanh(self.input_f1(x) + self.hidden_f1(self.hidden_state))\n",
    "        output = self.output_function(self.hidden_state)\n",
    "        return output"
   ]
  },
  {
   "cell_type": "markdown",
   "metadata": {},
   "source": [
    "We can then forward propagate our information inside our network"
   ]
  },
  {
   "cell_type": "code",
   "execution_count": 14,
   "metadata": {},
   "outputs": [
    {
     "name": "stdout",
     "output_type": "stream",
     "text": [
      "tensor([[[-0.5039,  0.4308, -0.4892,  0.3558, -0.1226],\n",
      "         [-0.5039,  0.4308, -0.4892,  0.3558, -0.1226],\n",
      "         [-0.5039,  0.4308, -0.4892,  0.3558, -0.1226],\n",
      "         [-0.5039,  0.4308, -0.4892,  0.3558, -0.1226],\n",
      "         [-0.5039,  0.4308, -0.4892,  0.3558, -0.1226],\n",
      "         [-0.5039,  0.4308, -0.4892,  0.3558, -0.1226],\n",
      "         [-0.5039,  0.4308, -0.4892,  0.3558, -0.1226],\n",
      "         [-0.5039,  0.4308, -0.4892,  0.3558, -0.1226],\n",
      "         [-0.5039,  0.4308, -0.4892,  0.3558, -0.1226],\n",
      "         [-0.5039,  0.4308, -0.4892,  0.3558, -0.1226],\n",
      "         [-0.5039,  0.4308, -0.4892,  0.3558, -0.1226],\n",
      "         [-0.5039,  0.4308, -0.4892,  0.3558, -0.1226],\n",
      "         [-0.5039,  0.4308, -0.4892,  0.3558, -0.1226],\n",
      "         [-0.5039,  0.4308, -0.4892,  0.3558, -0.1226],\n",
      "         [-0.5039,  0.4308, -0.4892,  0.3558, -0.1226],\n",
      "         [-0.5039,  0.4308, -0.4892,  0.3558, -0.1226]],\n",
      "\n",
      "        [[-0.5039,  0.4308, -0.4892,  0.3558, -0.1226],\n",
      "         [-0.5039,  0.4308, -0.4892,  0.3558, -0.1226],\n",
      "         [-0.5039,  0.4308, -0.4892,  0.3558, -0.1226],\n",
      "         [-0.5039,  0.4308, -0.4892,  0.3558, -0.1226],\n",
      "         [-0.5039,  0.4308, -0.4892,  0.3558, -0.1226],\n",
      "         [-0.5039,  0.4308, -0.4892,  0.3558, -0.1226],\n",
      "         [-0.5039,  0.4308, -0.4892,  0.3558, -0.1226],\n",
      "         [-0.5039,  0.4308, -0.4892,  0.3558, -0.1226],\n",
      "         [-0.5039,  0.4308, -0.4892,  0.3558, -0.1226],\n",
      "         [-0.5039,  0.4308, -0.4892,  0.3558, -0.1226],\n",
      "         [-0.5039,  0.4308, -0.4892,  0.3558, -0.1226],\n",
      "         [-0.5039,  0.4308, -0.4892,  0.3558, -0.1226],\n",
      "         [-0.5039,  0.4308, -0.4892,  0.3558, -0.1226],\n",
      "         [-0.5039,  0.4308, -0.4892,  0.3558, -0.1226],\n",
      "         [-0.5039,  0.4308, -0.4892,  0.3558, -0.1226],\n",
      "         [-0.5039,  0.4308, -0.4892,  0.3558, -0.1226]]],\n",
      "       grad_fn=<ViewBackward0>)\n",
      "tensor([[[-0.4754,  0.4445, -0.4107,  0.3381, -0.0549],\n",
      "         [-0.4754,  0.4445, -0.4107,  0.3381, -0.0549],\n",
      "         [-0.4754,  0.4445, -0.4107,  0.3381, -0.0549],\n",
      "         [-0.4754,  0.4445, -0.4107,  0.3381, -0.0549],\n",
      "         [-0.4754,  0.4445, -0.4107,  0.3381, -0.0549],\n",
      "         [-0.4754,  0.4445, -0.4107,  0.3381, -0.0549],\n",
      "         [-0.4754,  0.4445, -0.4107,  0.3381, -0.0549],\n",
      "         [-0.4754,  0.4445, -0.4107,  0.3381, -0.0549],\n",
      "         [-0.4754,  0.4445, -0.4107,  0.3381, -0.0549],\n",
      "         [-0.4754,  0.4445, -0.4107,  0.3381, -0.0549],\n",
      "         [-0.4754,  0.4445, -0.4107,  0.3381, -0.0549],\n",
      "         [-0.4754,  0.4445, -0.4107,  0.3381, -0.0549],\n",
      "         [-0.4754,  0.4445, -0.4107,  0.3381, -0.0549],\n",
      "         [-0.4754,  0.4445, -0.4107,  0.3381, -0.0549],\n",
      "         [-0.4754,  0.4445, -0.4107,  0.3381, -0.0549],\n",
      "         [-0.4754,  0.4445, -0.4107,  0.3381, -0.0549]],\n",
      "\n",
      "        [[-0.4754,  0.4445, -0.4107,  0.3381, -0.0549],\n",
      "         [-0.4754,  0.4445, -0.4107,  0.3381, -0.0549],\n",
      "         [-0.4754,  0.4445, -0.4107,  0.3381, -0.0549],\n",
      "         [-0.4754,  0.4445, -0.4107,  0.3381, -0.0549],\n",
      "         [-0.4754,  0.4445, -0.4107,  0.3381, -0.0549],\n",
      "         [-0.4754,  0.4445, -0.4107,  0.3381, -0.0549],\n",
      "         [-0.4754,  0.4445, -0.4107,  0.3381, -0.0549],\n",
      "         [-0.4754,  0.4445, -0.4107,  0.3381, -0.0549],\n",
      "         [-0.4754,  0.4445, -0.4107,  0.3381, -0.0549],\n",
      "         [-0.4754,  0.4445, -0.4107,  0.3381, -0.0549],\n",
      "         [-0.4754,  0.4445, -0.4107,  0.3381, -0.0549],\n",
      "         [-0.4754,  0.4445, -0.4107,  0.3381, -0.0549],\n",
      "         [-0.4754,  0.4445, -0.4107,  0.3381, -0.0549],\n",
      "         [-0.4754,  0.4445, -0.4107,  0.3381, -0.0549],\n",
      "         [-0.4754,  0.4445, -0.4107,  0.3381, -0.0549],\n",
      "         [-0.4754,  0.4445, -0.4107,  0.3381, -0.0549]]],\n",
      "       grad_fn=<ViewBackward0>)\n",
      "tensor([[[-0.4693,  0.4201, -0.4197,  0.3600, -0.0721],\n",
      "         [-0.4693,  0.4201, -0.4197,  0.3600, -0.0721],\n",
      "         [-0.4693,  0.4201, -0.4197,  0.3600, -0.0721],\n",
      "         [-0.4693,  0.4201, -0.4197,  0.3600, -0.0721],\n",
      "         [-0.4693,  0.4201, -0.4197,  0.3600, -0.0721],\n",
      "         [-0.4693,  0.4201, -0.4197,  0.3600, -0.0721],\n",
      "         [-0.4693,  0.4201, -0.4197,  0.3600, -0.0721],\n",
      "         [-0.4693,  0.4201, -0.4197,  0.3600, -0.0721],\n",
      "         [-0.4693,  0.4201, -0.4197,  0.3600, -0.0721],\n",
      "         [-0.4693,  0.4201, -0.4197,  0.3600, -0.0721],\n",
      "         [-0.4693,  0.4201, -0.4197,  0.3600, -0.0721],\n",
      "         [-0.4693,  0.4201, -0.4197,  0.3600, -0.0721],\n",
      "         [-0.4693,  0.4201, -0.4197,  0.3600, -0.0721],\n",
      "         [-0.4693,  0.4201, -0.4197,  0.3600, -0.0721],\n",
      "         [-0.4693,  0.4201, -0.4197,  0.3600, -0.0721],\n",
      "         [-0.4693,  0.4201, -0.4197,  0.3600, -0.0721]],\n",
      "\n",
      "        [[-0.4693,  0.4201, -0.4197,  0.3600, -0.0721],\n",
      "         [-0.4693,  0.4201, -0.4197,  0.3600, -0.0721],\n",
      "         [-0.4693,  0.4201, -0.4197,  0.3600, -0.0721],\n",
      "         [-0.4693,  0.4201, -0.4197,  0.3600, -0.0721],\n",
      "         [-0.4693,  0.4201, -0.4197,  0.3600, -0.0721],\n",
      "         [-0.4693,  0.4201, -0.4197,  0.3600, -0.0721],\n",
      "         [-0.4693,  0.4201, -0.4197,  0.3600, -0.0721],\n",
      "         [-0.4693,  0.4201, -0.4197,  0.3600, -0.0721],\n",
      "         [-0.4693,  0.4201, -0.4197,  0.3600, -0.0721],\n",
      "         [-0.4693,  0.4201, -0.4197,  0.3600, -0.0721],\n",
      "         [-0.4693,  0.4201, -0.4197,  0.3600, -0.0721],\n",
      "         [-0.4693,  0.4201, -0.4197,  0.3600, -0.0721],\n",
      "         [-0.4693,  0.4201, -0.4197,  0.3600, -0.0721],\n",
      "         [-0.4693,  0.4201, -0.4197,  0.3600, -0.0721],\n",
      "         [-0.4693,  0.4201, -0.4197,  0.3600, -0.0721],\n",
      "         [-0.4693,  0.4201, -0.4197,  0.3600, -0.0721]]],\n",
      "       grad_fn=<ViewBackward0>)\n"
     ]
    }
   ],
   "source": [
    "in_size = 4\n",
    "input_vector = torch.ones(16, in_size)\n",
    "simple_network = RecurrentNetwork(in_size, 10, 5)\n",
    "# Notice that same input, but leads to different ouptut at every single time step.\n",
    "print(simple_network(input_vector))\n",
    "print(simple_network(input_vector))\n",
    "print(simple_network(input_vector))"
   ]
  },
  {
   "cell_type": "markdown",
   "metadata": {},
   "source": [
    "As usual, `Pytorch` also comes packed with some pre-coded recurrent layers. You can go check the documentation to find how to use these."
   ]
  }
 ],
 "metadata": {
  "kernelspec": {
   "display_name": "Python 3",
   "language": "python",
   "name": "python3"
  },
  "language_info": {
   "codemirror_mode": {
    "name": "ipython",
    "version": 3
   },
   "file_extension": ".py",
   "mimetype": "text/x-python",
   "name": "python",
   "nbconvert_exporter": "python",
   "pygments_lexer": "ipython3",
   "version": "3.9.0"
  }
 },
 "nbformat": 4,
 "nbformat_minor": 4
}
